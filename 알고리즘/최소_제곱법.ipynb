{
  "nbformat": 4,
  "nbformat_minor": 0,
  "metadata": {
    "colab": {
      "name": "최소 제곱법.ipynb",
      "provenance": [],
      "collapsed_sections": []
    },
    "kernelspec": {
      "name": "python3",
      "display_name": "Python 3"
    },
    "language_info": {
      "name": "python"
    }
  },
  "cells": [
    {
      "cell_type": "code",
      "metadata": {
        "id": "b9Jd5B8ie4Qi"
      },
      "source": [
        "import numpy as np\n",
        "\n",
        "x = [2,4,6,8]\n",
        "y = [81,93,91,97]\n",
        "\n",
        "mx = np.mean(x)\n",
        "my = np.mean(y)"
      ],
      "execution_count": null,
      "outputs": []
    },
    {
      "cell_type": "code",
      "metadata": {
        "id": "svXweKLH1wYL"
      },
      "source": [
        "divisor = sum([(i-mx)**2 for i in x])"
      ],
      "execution_count": null,
      "outputs": []
    },
    {
      "cell_type": "code",
      "metadata": {
        "id": "Kijh11Hr129q"
      },
      "source": [
        "def top(x,mx,y,my):\n",
        "  d = 0\n",
        "  for i in range(len(x)):\n",
        "    d += (x[i] - mx) * (y[i] - my)\n",
        "  return d\n",
        "\n",
        "dividend = top(x,mx,y,my)"
      ],
      "execution_count": null,
      "outputs": []
    },
    {
      "cell_type": "code",
      "metadata": {
        "colab": {
          "base_uri": "https://localhost:8080/"
        },
        "id": "oThLzULwd1aI",
        "outputId": "8078ee33-1610-4b78-90e3-8820216e8485"
      },
      "source": [
        "# y 절편 b\n",
        "a = dividend/divisor\n",
        "b = my - (mx *a)\n",
        "print(b)"
      ],
      "execution_count": null,
      "outputs": [
        {
          "output_type": "stream",
          "text": [
            "79.0\n"
          ],
          "name": "stdout"
        }
      ]
    },
    {
      "cell_type": "code",
      "metadata": {
        "id": "8IVSWztyel1a",
        "colab": {
          "base_uri": "https://localhost:8080/"
        },
        "outputId": "b546a8b0-e6af-427f-fcb3-6b4996cd93e3"
      },
      "source": [
        "print(\"기울기 a = \",a)\n",
        "print(\"y절편 b = \",b)\n"
      ],
      "execution_count": null,
      "outputs": [
        {
          "output_type": "stream",
          "text": [
            "기울기 a =  2.3\n",
            "y절편 b =  79.0\n"
          ],
          "name": "stdout"
        }
      ]
    },
    {
      "cell_type": "code",
      "metadata": {
        "id": "wEtrw8ThjEbI"
      },
      "source": [
        "fake_a_b = [3,76]"
      ],
      "execution_count": null,
      "outputs": []
    },
    {
      "cell_type": "code",
      "metadata": {
        "id": "sSjcwAQ0sFBg"
      },
      "source": [
        "def predict(x):\n",
        "  return fake_a_b[0]*x + fake_a_b[1]"
      ],
      "execution_count": null,
      "outputs": []
    },
    {
      "cell_type": "code",
      "metadata": {
        "id": "j0oRMdptsKmU"
      },
      "source": [
        "def mse(y,y_hat):\n",
        "  return ((y-y_hat)**2).mean()"
      ],
      "execution_count": null,
      "outputs": []
    },
    {
      "cell_type": "code",
      "metadata": {
        "id": "I4AAHrk4sPbB"
      },
      "source": [
        "def mse_val(predict_result,y):\n",
        "  return mse(np.array(predict_result),np.array(y))"
      ],
      "execution_count": null,
      "outputs": []
    },
    {
      "cell_type": "code",
      "metadata": {
        "colab": {
          "base_uri": "https://localhost:8080/"
        },
        "id": "yZmKN4rhsn4j",
        "outputId": "1abb660e-3284-4994-8bba-f8bd5628abb1"
      },
      "source": [
        "predict_result = []\n",
        "\n",
        "for i in range(len(x)):\n",
        "  predict_result.append(predict(x[i]))\n",
        "  print(\"공부시간 = %.f, 실제 점수 = %.f, 예측 점수 = %.f\" %(x[i],y[i],predict(x[i])))"
      ],
      "execution_count": null,
      "outputs": [
        {
          "output_type": "stream",
          "text": [
            "공부시간 = 2, 실제 점수 = 81, 예측 점수 = 82\n",
            "공부시간 = 4, 실제 점수 = 93, 예측 점수 = 88\n",
            "공부시간 = 6, 실제 점수 = 91, 예측 점수 = 94\n",
            "공부시간 = 8, 실제 점수 = 97, 예측 점수 = 100\n"
          ],
          "name": "stdout"
        }
      ]
    },
    {
      "cell_type": "code",
      "metadata": {
        "colab": {
          "base_uri": "https://localhost:8080/"
        },
        "id": "Ys8DuE5utaWk",
        "outputId": "2685539d-466b-48b7-8692-b33d14709d0e"
      },
      "source": [
        "print(\"mse 최종값: \"+ str(mse_val(predict_result,y)))"
      ],
      "execution_count": null,
      "outputs": [
        {
          "output_type": "stream",
          "text": [
            "mse 최종값: 11.0\n"
          ],
          "name": "stdout"
        }
      ]
    },
    {
      "cell_type": "code",
      "metadata": {
        "id": "1JtQcbqHuMPk"
      },
      "source": [
        ""
      ],
      "execution_count": null,
      "outputs": []
    }
  ]
}